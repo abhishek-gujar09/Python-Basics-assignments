{
 "cells": [
  {
   "cell_type": "code",
   "execution_count": 3,
   "id": "1d1a6dac-5bec-4aba-8f00-74d305ad96a3",
   "metadata": {},
   "outputs": [
    {
     "name": "stdin",
     "output_type": "stream",
     "text": [
      "enter a string: jijij\n"
     ]
    },
    {
     "name": "stdout",
     "output_type": "stream",
     "text": [
      "The above entered string is a PALINDROME\n"
     ]
    }
   ],
   "source": [
    "a = input( \"enter a string:\")\n",
    "b= a[::-1]\n",
    "if a==b:\n",
    "    print(\"The above entered string is a PALINDROME\")\n",
    "    \n",
    "else :\n",
    "    print(\"The above entered string is not a PALINDROME\")"
   ]
  },
  {
   "cell_type": "code",
   "execution_count": null,
   "id": "fc75b04f-6f87-4c70-8cd8-3a2c92792d7a",
   "metadata": {},
   "outputs": [],
   "source": []
  }
 ],
 "metadata": {
  "kernelspec": {
   "display_name": "Python 3 (ipykernel)",
   "language": "python",
   "name": "python3"
  },
  "language_info": {
   "codemirror_mode": {
    "name": "ipython",
    "version": 3
   },
   "file_extension": ".py",
   "mimetype": "text/x-python",
   "name": "python",
   "nbconvert_exporter": "python",
   "pygments_lexer": "ipython3",
   "version": "3.10.8"
  }
 },
 "nbformat": 4,
 "nbformat_minor": 5
}
