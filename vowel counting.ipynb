{
 "cells": [
  {
   "cell_type": "code",
   "execution_count": 4,
   "id": "53614390-cd8a-4861-8e4f-4199f5c5db29",
   "metadata": {},
   "outputs": [
    {
     "name": "stdin",
     "output_type": "stream",
     "text": [
      " enter a sentence here:  abhishek\n"
     ]
    },
    {
     "name": "stdout",
     "output_type": "stream",
     "text": [
      "the number of vowels in this sentence are:  3\n"
     ]
    }
   ],
   "source": [
    "def count_vowels(sentence):\n",
    "    vowels=\"aeiouAEIOU\"\n",
    "    vowel_count = 0\n",
    "    \n",
    "    for char in sentence:\n",
    "        if char in vowels:\n",
    "            vowel_count += 1\n",
    "            \n",
    "    return vowel_count\n",
    "\n",
    "A = input(' enter a sentence here: ')\n",
    "result = count_vowels(A)\n",
    "\n",
    "print(f\"the number of vowels in this sentence are: \", result)"
   ]
  },
  {
   "cell_type": "code",
   "execution_count": null,
   "id": "5d43d857-4232-4d44-a70b-9ee3b2b68082",
   "metadata": {},
   "outputs": [],
   "source": []
  }
 ],
 "metadata": {
  "kernelspec": {
   "display_name": "Python 3 (ipykernel)",
   "language": "python",
   "name": "python3"
  },
  "language_info": {
   "codemirror_mode": {
    "name": "ipython",
    "version": 3
   },
   "file_extension": ".py",
   "mimetype": "text/x-python",
   "name": "python",
   "nbconvert_exporter": "python",
   "pygments_lexer": "ipython3",
   "version": "3.10.8"
  }
 },
 "nbformat": 4,
 "nbformat_minor": 5
}
