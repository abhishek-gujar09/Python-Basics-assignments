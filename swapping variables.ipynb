{
 "cells": [
  {
   "cell_type": "code",
   "execution_count": 1,
   "id": "488f7ddb-0186-466c-960a-04cb7cdf8e3d",
   "metadata": {},
   "outputs": [],
   "source": [
    "x = 10"
   ]
  },
  {
   "cell_type": "code",
   "execution_count": 2,
   "id": "be00fe53-581a-47a0-bf4e-702b01a329c2",
   "metadata": {},
   "outputs": [],
   "source": [
    "y = 15"
   ]
  },
  {
   "cell_type": "code",
   "execution_count": 3,
   "id": "1d8cd7d9-080a-4531-b3ac-f828373b6fae",
   "metadata": {},
   "outputs": [
    {
     "data": {
      "text/plain": [
       "int"
      ]
     },
     "execution_count": 3,
     "metadata": {},
     "output_type": "execute_result"
    }
   ],
   "source": [
    "type(x)"
   ]
  },
  {
   "cell_type": "code",
   "execution_count": 9,
   "id": "72e27aa2-c605-4653-9402-4035c808b519",
   "metadata": {},
   "outputs": [
    {
     "data": {
      "text/plain": [
       "int"
      ]
     },
     "execution_count": 9,
     "metadata": {},
     "output_type": "execute_result"
    }
   ],
   "source": [
    "type(y)"
   ]
  },
  {
   "cell_type": "code",
   "execution_count": 10,
   "id": "3f89cf1c-db37-48b6-8f4e-89aa1db15ff2",
   "metadata": {},
   "outputs": [],
   "source": [
    "x, y = y, x"
   ]
  },
  {
   "cell_type": "code",
   "execution_count": 12,
   "id": "96db0336-46ee-4e03-a927-e364c1d0f41e",
   "metadata": {},
   "outputs": [
    {
     "name": "stdout",
     "output_type": "stream",
     "text": [
      "x=  15\n"
     ]
    }
   ],
   "source": [
    "print(\"x= \", x)"
   ]
  },
  {
   "cell_type": "code",
   "execution_count": 13,
   "id": "0abbca91-f7c4-4fa6-8f55-e0259f1437d9",
   "metadata": {},
   "outputs": [
    {
     "name": "stdout",
     "output_type": "stream",
     "text": [
      "y=  10\n"
     ]
    }
   ],
   "source": [
    "print(\"y= \", y)"
   ]
  },
  {
   "cell_type": "code",
   "execution_count": 2,
   "id": "d8c41940-cded-4711-b881-8a2bfd494f0d",
   "metadata": {},
   "outputs": [
    {
     "name": "stdin",
     "output_type": "stream",
     "text": [
      "enter value for x:  5345\n"
     ]
    },
    {
     "name": "stdout",
     "output_type": "stream",
     "text": [
      "x=  5345\n"
     ]
    },
    {
     "name": "stdin",
     "output_type": "stream",
     "text": [
      "enter value for y:  56757\n"
     ]
    },
    {
     "name": "stdout",
     "output_type": "stream",
     "text": [
      "y=  56757\n",
      "Result after SWAPPING the values\n",
      "x=  56757\n",
      "y=  5345\n"
     ]
    }
   ],
   "source": [
    "x = int(input(\"enter value for x: \"))\n",
    "\n",
    "print(\"x= \", x)\n",
    "\n",
    "y = int(input(\"enter value for y: \"))\n",
    "\n",
    "print(\"y= \", y)\n",
    "\n",
    "x, y = y, x #this will swap the values of variables without a 3rd variable\n",
    "\n",
    "print(\"Result after SWAPPING the values\")\n",
    "\n",
    "print(\"x= \", x)\n",
    "print(\"y= \", y)"
   ]
  },
  {
   "cell_type": "code",
   "execution_count": null,
   "id": "cbe2d4f5-5251-4c72-90b9-5e2a57029450",
   "metadata": {},
   "outputs": [],
   "source": []
  }
 ],
 "metadata": {
  "kernelspec": {
   "display_name": "Python 3 (ipykernel)",
   "language": "python",
   "name": "python3"
  },
  "language_info": {
   "codemirror_mode": {
    "name": "ipython",
    "version": 3
   },
   "file_extension": ".py",
   "mimetype": "text/x-python",
   "name": "python",
   "nbconvert_exporter": "python",
   "pygments_lexer": "ipython3",
   "version": "3.10.8"
  }
 },
 "nbformat": 4,
 "nbformat_minor": 5
}
