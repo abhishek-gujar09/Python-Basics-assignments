{
 "cells": [
  {
   "cell_type": "code",
   "execution_count": 6,
   "id": "049d183e-91b8-4bc5-b74c-f88f018e4be2",
   "metadata": {},
   "outputs": [
    {
     "name": "stdin",
     "output_type": "stream",
     "text": [
      " I love Python Coding\n"
     ]
    },
    {
     "name": "stdout",
     "output_type": "stream",
     "text": [
      "entered string is  I love Python Coding\n",
      "Length of I love Python Coding is 20\n"
     ]
    }
   ],
   "source": [
    "a = input()\n",
    "\n",
    "print(\"entered string is \", a)\n",
    "\n",
    "print(\"Length of\", a,\"is\", len(a))"
   ]
  },
  {
   "cell_type": "code",
   "execution_count": null,
   "id": "0fac7305-3d67-439c-84e2-c4aaf520aa57",
   "metadata": {},
   "outputs": [],
   "source": []
  }
 ],
 "metadata": {
  "kernelspec": {
   "display_name": "Python 3 (ipykernel)",
   "language": "python",
   "name": "python3"
  },
  "language_info": {
   "codemirror_mode": {
    "name": "ipython",
    "version": 3
   },
   "file_extension": ".py",
   "mimetype": "text/x-python",
   "name": "python",
   "nbconvert_exporter": "python",
   "pygments_lexer": "ipython3",
   "version": "3.10.8"
  }
 },
 "nbformat": 4,
 "nbformat_minor": 5
}
