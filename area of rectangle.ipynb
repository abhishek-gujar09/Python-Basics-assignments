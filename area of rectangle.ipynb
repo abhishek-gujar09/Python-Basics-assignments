{
 "cells": [
  {
   "cell_type": "code",
   "execution_count": 4,
   "id": "d07344e2-18d4-4d6d-a4b9-bedc3604638a",
   "metadata": {},
   "outputs": [
    {
     "name": "stdin",
     "output_type": "stream",
     "text": [
      "enter length of rectangle   1645\n",
      "enter breadth if rectangle  4326452\n"
     ]
    },
    {
     "name": "stdout",
     "output_type": "stream",
     "text": [
      "Area of Rectangle is 7117013540.0 sq.units\n"
     ]
    }
   ],
   "source": [
    "#declaring two variables for user input, here mentioning data type is mandatory because input command by default takes only string data type\n",
    "l = float(input('enter length of rectangle  '))\n",
    "b = float(input('enter breadth if rectangle '))\n",
    "#calculating area    \n",
    "area = l * b\n",
    "print ('Area of Rectangle is', area, 'sq.units')"
   ]
  },
  {
   "cell_type": "code",
   "execution_count": null,
   "id": "c3991c23-6f34-42d7-b857-23c2e54a3e93",
   "metadata": {},
   "outputs": [],
   "source": []
  }
 ],
 "metadata": {
  "kernelspec": {
   "display_name": "Python 3 (ipykernel)",
   "language": "python",
   "name": "python3"
  },
  "language_info": {
   "codemirror_mode": {
    "name": "ipython",
    "version": 3
   },
   "file_extension": ".py",
   "mimetype": "text/x-python",
   "name": "python",
   "nbconvert_exporter": "python",
   "pygments_lexer": "ipython3",
   "version": "3.10.8"
  }
 },
 "nbformat": 4,
 "nbformat_minor": 5
}
