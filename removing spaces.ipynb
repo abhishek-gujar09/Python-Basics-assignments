{
 "cells": [
  {
   "cell_type": "code",
   "execution_count": 2,
   "id": "131be5ce-8590-4cfb-88a6-5721a17d6b48",
   "metadata": {},
   "outputs": [
    {
     "name": "stdin",
     "output_type": "stream",
     "text": [
      "enter a sentence i am abhishek gujar\n"
     ]
    },
    {
     "name": "stdout",
     "output_type": "stream",
     "text": [
      "the string without space:  iamabhishekgujar\n"
     ]
    }
   ],
   "source": [
    "a = (input('enter a sentence'))\n",
    "\n",
    "result = a.replace (' ', '')\n",
    "\n",
    "print('the string without space: ', result)"
   ]
  },
  {
   "cell_type": "code",
   "execution_count": null,
   "id": "63cb6d78-be30-48ac-bc1e-eea9fb823ba0",
   "metadata": {},
   "outputs": [],
   "source": []
  }
 ],
 "metadata": {
  "kernelspec": {
   "display_name": "Python 3 (ipykernel)",
   "language": "python",
   "name": "python3"
  },
  "language_info": {
   "codemirror_mode": {
    "name": "ipython",
    "version": 3
   },
   "file_extension": ".py",
   "mimetype": "text/x-python",
   "name": "python",
   "nbconvert_exporter": "python",
   "pygments_lexer": "ipython3",
   "version": "3.10.8"
  }
 },
 "nbformat": 4,
 "nbformat_minor": 5
}
