{
 "cells": [
  {
   "cell_type": "code",
   "execution_count": 3,
   "id": "e37410a3-e25b-447a-96f9-8114126e3d20",
   "metadata": {},
   "outputs": [
    {
     "name": "stdin",
     "output_type": "stream",
     "text": [
      " enter a string:  kehsihba\n"
     ]
    },
    {
     "name": "stdout",
     "output_type": "stream",
     "text": [
      "reverse order of the entered string is:  abhishek\n"
     ]
    }
   ],
   "source": [
    "a = input (\" enter a string: \")\n",
    "\n",
    "a[::-1]\n",
    "\n",
    "print(\"reverse order of the entered string is: \", a[::-1])"
   ]
  },
  {
   "cell_type": "code",
   "execution_count": null,
   "id": "4e431f0b-1bf7-4bfe-a2e4-8dfb8dccbfb6",
   "metadata": {},
   "outputs": [],
   "source": []
  }
 ],
 "metadata": {
  "kernelspec": {
   "display_name": "Python 3 (ipykernel)",
   "language": "python",
   "name": "python3"
  },
  "language_info": {
   "codemirror_mode": {
    "name": "ipython",
    "version": 3
   },
   "file_extension": ".py",
   "mimetype": "text/x-python",
   "name": "python",
   "nbconvert_exporter": "python",
   "pygments_lexer": "ipython3",
   "version": "3.10.8"
  }
 },
 "nbformat": 4,
 "nbformat_minor": 5
}
